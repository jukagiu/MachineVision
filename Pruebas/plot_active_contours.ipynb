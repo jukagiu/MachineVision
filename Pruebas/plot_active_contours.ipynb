{
 "cells": [
  {
   "cell_type": "code",
   "execution_count": null,
   "metadata": {
    "collapsed": false
   },
   "outputs": [],
   "source": [
    "%matplotlib inline"
   ]
  },
  {
   "cell_type": "markdown",
   "metadata": {},
   "source": [
    "\n",
    "# Active Contour Model\n",
    "\n",
    "\n",
    "The active contour model is a method to fit open or closed splines to lines or\n",
    "edges in an image. It works by minimising an energy that is in part defined by\n",
    "the image and part by the spline's shape: length and smoothness. The\n",
    "minimization is done implicitly in the shape energy and explicitly in the\n",
    "image energy.\n",
    "\n",
    "In the following two examples the active contour model is used (1) to segment\n",
    "the face of a person from the rest of an image by fitting a closed curve\n",
    "to the edges of the face and (2) to find the darkest curve between two fixed\n",
    "points while obeying smoothness considerations. Typically it is a good idea to\n",
    "smooth images a bit before analyzing, as done in the following examples.\n",
    "\n",
    ".. [1] *Snakes: Active contour models*. Kass, M.; Witkin, A.; Terzopoulos, D.\n",
    "       International Journal of Computer Vision 1 (4): 321 (1988).\n",
    "\n",
    "We initialize a circle around the astronaut's face and use the default boundary\n",
    "condition ``bc='periodic'`` to fit a closed curve. The default parameters\n",
    "``w_line=0, w_edge=1`` will make the curve search towards edges, such as the\n",
    "boundaries of the face.\n",
    "\n"
   ]
  },
  {
   "cell_type": "code",
   "execution_count": 10,
   "metadata": {
    "collapsed": false
   },
   "outputs": [
    {
     "ename": "ValueError",
     "evalue": "invalid literal for int() with base 10: '0rc2'",
     "output_type": "error",
     "traceback": [
      "\u001b[0;31m---------------------------------------------------------------------------\u001b[0m",
      "\u001b[0;31mValueError\u001b[0m                                Traceback (most recent call last)",
      "\u001b[0;32m<ipython-input-10-8d7e649c43b1>\u001b[0m in \u001b[0;36m<module>\u001b[0;34m()\u001b[0m\n\u001b[1;32m     29\u001b[0m \u001b[1;33m\u001b[0m\u001b[0m\n\u001b[1;32m     30\u001b[0m \u001b[1;32mif\u001b[0m \u001b[0mnew_scipy\u001b[0m\u001b[1;33m:\u001b[0m\u001b[1;33m\u001b[0m\u001b[0m\n\u001b[0;32m---> 31\u001b[0;31m     \u001b[0msnake\u001b[0m \u001b[1;33m=\u001b[0m \u001b[0mactive_contour\u001b[0m\u001b[1;33m(\u001b[0m\u001b[0mgaussian\u001b[0m\u001b[1;33m(\u001b[0m\u001b[0mimg\u001b[0m\u001b[1;33m,\u001b[0m \u001b[1;36m3\u001b[0m\u001b[1;33m)\u001b[0m\u001b[1;33m,\u001b[0m \u001b[0minit\u001b[0m\u001b[1;33m,\u001b[0m \u001b[0malpha\u001b[0m\u001b[1;33m=\u001b[0m\u001b[1;36m0.015\u001b[0m\u001b[1;33m,\u001b[0m \u001b[0mbeta\u001b[0m\u001b[1;33m=\u001b[0m\u001b[1;36m10\u001b[0m\u001b[1;33m,\u001b[0m \u001b[0mgamma\u001b[0m\u001b[1;33m=\u001b[0m\u001b[1;36m0.01\u001b[0m\u001b[1;33m)\u001b[0m\u001b[1;33m\u001b[0m\u001b[0m\n\u001b[0m\u001b[1;32m     32\u001b[0m     \u001b[0mfig\u001b[0m \u001b[1;33m=\u001b[0m \u001b[0mplt\u001b[0m\u001b[1;33m.\u001b[0m\u001b[0mfigure\u001b[0m\u001b[1;33m(\u001b[0m\u001b[0mfigsize\u001b[0m\u001b[1;33m=\u001b[0m\u001b[1;33m(\u001b[0m\u001b[1;36m7\u001b[0m\u001b[1;33m,\u001b[0m \u001b[1;36m7\u001b[0m\u001b[1;33m)\u001b[0m\u001b[1;33m)\u001b[0m\u001b[1;33m\u001b[0m\u001b[0m\n\u001b[1;32m     33\u001b[0m     \u001b[0max\u001b[0m \u001b[1;33m=\u001b[0m \u001b[0mfig\u001b[0m\u001b[1;33m.\u001b[0m\u001b[0madd_subplot\u001b[0m\u001b[1;33m(\u001b[0m\u001b[1;36m111\u001b[0m\u001b[1;33m)\u001b[0m\u001b[1;33m\u001b[0m\u001b[0m\n",
      "\u001b[0;32mC:\\Users\\Julian\\Anaconda2\\lib\\site-packages\\skimage\\segmentation\\active_contour_model.pyc\u001b[0m in \u001b[0;36mactive_contour\u001b[0;34m(image, snake, alpha, beta, w_line, w_edge, gamma, bc, max_px_move, max_iterations, convergence)\u001b[0m\n\u001b[1;32m     86\u001b[0m \u001b[1;33m\u001b[0m\u001b[0m\n\u001b[1;32m     87\u001b[0m     \"\"\"\n\u001b[0;32m---> 88\u001b[0;31m     \u001b[0mscipy_version\u001b[0m \u001b[1;33m=\u001b[0m \u001b[0mlist\u001b[0m\u001b[1;33m(\u001b[0m\u001b[0mmap\u001b[0m\u001b[1;33m(\u001b[0m\u001b[0mint\u001b[0m\u001b[1;33m,\u001b[0m \u001b[0mscipy\u001b[0m\u001b[1;33m.\u001b[0m\u001b[0m__version__\u001b[0m\u001b[1;33m.\u001b[0m\u001b[0msplit\u001b[0m\u001b[1;33m(\u001b[0m\u001b[1;34m'.'\u001b[0m\u001b[1;33m)\u001b[0m\u001b[1;33m)\u001b[0m\u001b[1;33m)\u001b[0m\u001b[1;33m\u001b[0m\u001b[0m\n\u001b[0m\u001b[1;32m     89\u001b[0m     \u001b[0mnew_scipy\u001b[0m \u001b[1;33m=\u001b[0m \u001b[0mscipy_version\u001b[0m\u001b[1;33m[\u001b[0m\u001b[1;36m0\u001b[0m\u001b[1;33m]\u001b[0m \u001b[1;33m>\u001b[0m \u001b[1;36m0\u001b[0m \u001b[1;32mor\u001b[0m\u001b[0;31m \u001b[0m\u001b[0;31m\\\u001b[0m\u001b[1;33m\u001b[0m\u001b[0m\n\u001b[1;32m     90\u001b[0m                 \u001b[1;33m(\u001b[0m\u001b[0mscipy_version\u001b[0m\u001b[1;33m[\u001b[0m\u001b[1;36m0\u001b[0m\u001b[1;33m]\u001b[0m \u001b[1;33m==\u001b[0m \u001b[1;36m0\u001b[0m \u001b[1;32mand\u001b[0m \u001b[0mscipy_version\u001b[0m\u001b[1;33m[\u001b[0m\u001b[1;36m1\u001b[0m\u001b[1;33m]\u001b[0m \u001b[1;33m>=\u001b[0m \u001b[1;36m14\u001b[0m\u001b[1;33m)\u001b[0m\u001b[1;33m\u001b[0m\u001b[0m\n",
      "\u001b[0;31mValueError\u001b[0m: invalid literal for int() with base 10: '0rc2'"
     ]
    }
   ],
   "source": [
    "import numpy as np\n",
    "import matplotlib.pyplot as plt\n",
    "from skimage.color import rgb2gray\n",
    "from skimage import data\n",
    "from skimage.filters import gaussian\n",
    "from skimage.segmentation import active_contour\n",
    "\n",
    "# Test scipy version, since active contour is only possible\n",
    "# with recent scipy version\n",
    "import scipy\n",
    "split_version = scipy.__version__.split('.')\n",
    "if not(split_version[-1].isdigit()): # Remove dev string if present\n",
    "        split_version.pop()\n",
    "scipy_version = list(map(int, split_version))\n",
    "new_scipy = scipy_version[0] > 0 or \\\n",
    "            (scipy_version[0] == 0 and scipy_version[1] >= 14)\n",
    "\n",
    "img = data.astronaut()\n",
    "img = rgb2gray(img)\n",
    "\n",
    "s = np.linspace(0, 2*np.pi, 400)\n",
    "x = 220 + 100*np.cos(s)\n",
    "y = 100 + 100*np.sin(s)\n",
    "init = np.array([x, y]).T\n",
    "\n",
    "if not new_scipy:\n",
    "    print('You are using an old version of scipy. '\n",
    "          'Active contours is implemented for scipy versions '\n",
    "          '0.14.0 and above.')\n",
    "\n",
    "if new_scipy:\n",
    "    snake = active_contour(gaussian(img, 3), init, alpha=0.015, beta=10, gamma=0.01)\n",
    "    fig = plt.figure(figsize=(7, 7))\n",
    "    ax = fig.add_subplot(111)\n",
    "    plt.gray()\n",
    "    ax.imshow(img)\n",
    "    ax.plot(init[:, 0], init[:, 1], '--r', lw=3)\n",
    "    ax.plot(snake[:, 0], snake[:, 1], '-b', lw=3)\n",
    "    ax.set_xticks([]), ax.set_yticks([])\n",
    "    ax.axis([0, img.shape[1], img.shape[0], 0])"
   ]
  },
  {
   "cell_type": "markdown",
   "metadata": {},
   "source": [
    "Here we initialize a straight line between two points, `(5, 136)` and\n",
    "`(424, 50)`, and require that the spline has its end points there by giving\n",
    "the boundary condition `bc='fixed'`. We furthermore make the algorithm\n",
    "search for dark lines by giving a negative `w_line` value.\n",
    "\n"
   ]
  },
  {
   "cell_type": "code",
   "execution_count": null,
   "metadata": {
    "collapsed": false
   },
   "outputs": [],
   "source": [
    "img = data.text()\n",
    "\n",
    "x = np.linspace(5, 424, 100)\n",
    "y = np.linspace(136, 50, 100)\n",
    "init = np.array([x, y]).T\n",
    "\n",
    "if new_scipy:\n",
    "    snake = active_contour(gaussian(img, 1), init, bc='fixed',\n",
    "                           alpha=0.1, beta=1.0, w_line=-5, w_edge=0, gamma=0.1)\n",
    "\n",
    "    fig = plt.figure(figsize=(9, 5))\n",
    "    ax = fig.add_subplot(111)\n",
    "    plt.gray()\n",
    "    ax.imshow(img)\n",
    "    ax.plot(init[:, 0], init[:, 1], '--r', lw=3)\n",
    "    ax.plot(snake[:, 0], snake[:, 1], '-b', lw=3)\n",
    "    ax.set_xticks([]), ax.set_yticks([])\n",
    "    ax.axis([0, img.shape[1], img.shape[0], 0])\n",
    "\n",
    "plt.show()"
   ]
  }
 ],
 "metadata": {
  "kernelspec": {
   "display_name": "Python 2",
   "language": "python",
   "name": "python2"
  },
  "language_info": {
   "codemirror_mode": {
    "name": "ipython",
    "version": 2
   },
   "file_extension": ".py",
   "mimetype": "text/x-python",
   "name": "python",
   "nbconvert_exporter": "python",
   "pygments_lexer": "ipython2",
   "version": "2.7.13"
  }
 },
 "nbformat": 4,
 "nbformat_minor": 0
}
