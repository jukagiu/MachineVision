{
 "cells": [
  {
   "cell_type": "code",
   "execution_count": 1,
   "metadata": {
    "collapsed": false
   },
   "outputs": [
    {
     "ename": "error",
     "evalue": "C:\\build\\master_winpack-bindings-win64-vc14-static\\opencv\\modules\\imgproc\\src\\color.cpp:9815: error: (-215) (scn == 3 || scn == 4) && (depth == CV_8U || depth == CV_32F) in function cv::cvtColor\n",
     "output_type": "error",
     "traceback": [
      "\u001b[0;31m---------------------------------------------------------------------------\u001b[0m",
      "\u001b[0;31merror\u001b[0m                                     Traceback (most recent call last)",
      "\u001b[0;32m<ipython-input-1-856e0ac230c3>\u001b[0m in \u001b[0;36m<module>\u001b[0;34m()\u001b[0m\n\u001b[1;32m     15\u001b[0m     \u001b[1;31m#Capturamos una imagen y la convertimos de RGB -> HSV\u001b[0m\u001b[1;33m\u001b[0m\u001b[1;33m\u001b[0m\u001b[0m\n\u001b[1;32m     16\u001b[0m     \u001b[0m_\u001b[0m\u001b[1;33m,\u001b[0m \u001b[0mimagen\u001b[0m \u001b[1;33m=\u001b[0m \u001b[0mcaptura\u001b[0m\u001b[1;33m.\u001b[0m\u001b[0mread\u001b[0m\u001b[1;33m(\u001b[0m\u001b[1;33m)\u001b[0m\u001b[1;33m\u001b[0m\u001b[0m\n\u001b[0;32m---> 17\u001b[0;31m     \u001b[0mhsv\u001b[0m \u001b[1;33m=\u001b[0m \u001b[0mcv2\u001b[0m\u001b[1;33m.\u001b[0m\u001b[0mcvtColor\u001b[0m\u001b[1;33m(\u001b[0m\u001b[0mimagen\u001b[0m\u001b[1;33m,\u001b[0m \u001b[0mcv2\u001b[0m\u001b[1;33m.\u001b[0m\u001b[0mCOLOR_BGR2HSV\u001b[0m\u001b[1;33m)\u001b[0m\u001b[1;33m\u001b[0m\u001b[0m\n\u001b[0m\u001b[1;32m     18\u001b[0m \u001b[1;33m\u001b[0m\u001b[0m\n\u001b[1;32m     19\u001b[0m     \u001b[1;31m#Rango de colores detectados:\u001b[0m\u001b[1;33m\u001b[0m\u001b[1;33m\u001b[0m\u001b[0m\n",
      "\u001b[0;31merror\u001b[0m: C:\\build\\master_winpack-bindings-win64-vc14-static\\opencv\\modules\\imgproc\\src\\color.cpp:9815: error: (-215) (scn == 3 || scn == 4) && (depth == CV_8U || depth == CV_32F) in function cv::cvtColor\n"
     ]
    }
   ],
   "source": [
    "#Algoritmo de deteccion de colores\n",
    "#Por Glar3\n",
    "#www.robologs.net\n",
    "#\n",
    "#Detecta objetos verdes y amarillos\n",
    " \n",
    "import cv2\n",
    "import numpy as np\n",
    " \n",
    "#Iniciar la camara\n",
    "captura = cv2.VideoCapture(-1)\n",
    " \n",
    "while(1):\n",
    "     \n",
    "    #Capturamos una imagen y la convertimos de RGB -> HSV\n",
    "    _, imagen = captura.read()\n",
    "    hsv = cv2.cvtColor(imagen, cv2.COLOR_BGR2HSV)\n",
    " \n",
    "    #Rango de colores detectados:\n",
    "    #Verdes:\n",
    "    verde_bajos = np.array([49,50,50], dtype=np.uint8)\n",
    "    verde_altos = np.array([100, 255, 210], dtype=np.uint8)\n",
    "    #Amarillos:\n",
    "    amarillo_bajos = np.array([16,76,72], dtype=np.uint8)\n",
    "    amarillo_altos = np.array([30, 255, 210], dtype=np.uint8)\n",
    " \n",
    "    #Detectar los pixeles de la imagen que esten dentro del rango de verdes\n",
    "    mascara_verde = cv2.inRange(hsv, verde_bajos, verde_altos)\n",
    "    \n",
    "    #Detectar los pixeles de la imagen que esten dentro del rango de amarillos\n",
    "    mascara_amarillo = cv2.inRange(hsv, amarillo_bajos, amarillo_altos)\n",
    " \n",
    "    #Filtrar el ruido aplicando un OPEN seguido de un CLOSE\n",
    "    kernel = np.ones((6,6),np.uint8)\n",
    "    #mascara_verde = cv2.morphologyEx(mascara_verde, cv2.MORPH_CLOSE, kernel)\n",
    "    #mascara_verde = cv2.morphologyEx(mascara_verde, cv2.MORPH_OPEN, kernel)\n",
    "    #mascara_amarillo = cv2.morphologyEx(mascara_amarillo, cv2.MORPH_CLOSE, kernel)\n",
    "    #mascara_amarillo = cv2.morphologyEx(mascara_amarillo, cv2.MORPH_OPEN, kernel)\n",
    "\n",
    "    #Unir las dos mascaras con el comando cv2.add()\n",
    "    mask = cv2.add(mascara_amarillo, mascara_verde)\n",
    "\n",
    "    #Mostrar la imagen de la webcam y la mascara verde\n",
    "    cv2.imshow('verde', mask)\n",
    "    cv2.imshow('Camara', imagen)\n",
    "    tecla = cv2.waitKey(5) & 0xFF\n",
    "    if tecla == 27:\n",
    "        break\n",
    " \n",
    "cv2.destroyAllWindows()"
   ]
  },
  {
   "cell_type": "code",
   "execution_count": 2,
   "metadata": {
    "collapsed": false
   },
   "outputs": [
    {
     "name": "stdout",
     "output_type": "stream",
     "text": [
      "taken camera from index:  0\n"
     ]
    }
   ],
   "source": []
  },
  {
   "cell_type": "code",
   "execution_count": null,
   "metadata": {
    "collapsed": true
   },
   "outputs": [],
   "source": []
  }
 ],
 "metadata": {
  "kernelspec": {
   "display_name": "Python 2",
   "language": "python",
   "name": "python2"
  },
  "language_info": {
   "codemirror_mode": {
    "name": "ipython",
    "version": 2
   },
   "file_extension": ".py",
   "mimetype": "text/x-python",
   "name": "python",
   "nbconvert_exporter": "python",
   "pygments_lexer": "ipython2",
   "version": "2.7.13"
  }
 },
 "nbformat": 4,
 "nbformat_minor": 2
}
